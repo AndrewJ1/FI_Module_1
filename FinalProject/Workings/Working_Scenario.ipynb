{
 "cells": [
  {
   "cell_type": "markdown",
   "metadata": {},
   "source": [
    "## Multicollinearity test with final model "
   ]
  },
  {
   "cell_type": "markdown",
   "metadata": {},
   "source": [
    "Scenario - Add to Final Draft after Feature Ranking with RFE"
   ]
  },
  {
   "cell_type": "code",
   "execution_count": 130,
   "metadata": {},
   "outputs": [],
   "source": [
    "from statsmodels.stats.outliers_influence import variance_inflation_factor"
   ]
  },
  {
   "cell_type": "code",
   "execution_count": 171,
   "metadata": {},
   "outputs": [
    {
     "data": {
      "text/plain": [
       "[('sqft_living', 10.644489842525463),\n",
       " ('sqft_lot', 9.6970665970941),\n",
       " ('waterfront_1', 1.01203976626201),\n",
       " ('north_Seattle_1', 1.7691831683117163),\n",
       " ('near_Bellevue_1', 1.177415172605023),\n",
       " ('hi_zip_1', 1.298168039842188),\n",
       " ('low_zip_1', 1.169442902236005)]"
      ]
     },
     "execution_count": 171,
     "metadata": {},
     "output_type": "execute_result"
    }
   ],
   "source": [
    "X = (predictors[selected_columns])\n",
    "X = X.drop(['bathrooms', 'bedrooms',  'Miles_Seattle'], axis =1)\n",
    "X_col = selected_columns.drop(['bathrooms', 'bedrooms',   'Miles_Seattle'])\n",
    "vif = [variance_inflation_factor(X.values, i) for i in range(X.shape[1])]\n",
    "list(zip(X_col, vif))"
   ]
  },
  {
   "cell_type": "code",
   "execution_count": 172,
   "metadata": {},
   "outputs": [
    {
     "data": {
      "text/plain": [
       "LinearRegression(copy_X=True, fit_intercept=True, n_jobs=None,\n",
       "         normalize=False)"
      ]
     },
     "execution_count": 172,
     "metadata": {},
     "output_type": "execute_result"
    }
   ],
   "source": [
    "linreg.fit(predictors[X_col],y)"
   ]
  },
  {
   "cell_type": "code",
   "execution_count": 173,
   "metadata": {},
   "outputs": [],
   "source": [
    "yhat = linreg.predict(X)"
   ]
  },
  {
   "cell_type": "code",
   "execution_count": 174,
   "metadata": {},
   "outputs": [],
   "source": [
    "SS_Residual = np.sum((y-yhat)**2)\n",
    "SS_Total = np.sum((y-np.mean(y))**2)\n",
    "r_squared = 1 - (float(SS_Residual))/SS_Total\n",
    "adjusted_r_squared = 1 - (1-r_squared)*(len(y)-1)/(len(y)-predictors[selected_columns].shape[1]-1)"
   ]
  },
  {
   "cell_type": "code",
   "execution_count": 175,
   "metadata": {},
   "outputs": [
    {
     "data": {
      "text/plain": [
       "price    0.701133\n",
       "dtype: float64"
      ]
     },
     "execution_count": 175,
     "metadata": {},
     "output_type": "execute_result"
    }
   ],
   "source": [
    "r_squared"
   ]
  },
  {
   "cell_type": "code",
   "execution_count": 177,
   "metadata": {},
   "outputs": [
    {
     "data": {
      "text/html": [
       "<table class=\"simpletable\">\n",
       "<caption>OLS Regression Results</caption>\n",
       "<tr>\n",
       "  <th>Dep. Variable:</th>          <td>price</td>      <th>  R-squared:         </th>  <td>   0.701</td> \n",
       "</tr>\n",
       "<tr>\n",
       "  <th>Model:</th>                   <td>OLS</td>       <th>  Adj. R-squared:    </th>  <td>   0.701</td> \n",
       "</tr>\n",
       "<tr>\n",
       "  <th>Method:</th>             <td>Least Squares</td>  <th>  F-statistic:       </th>  <td>   7234.</td> \n",
       "</tr>\n",
       "<tr>\n",
       "  <th>Date:</th>             <td>Sun, 23 Jun 2019</td> <th>  Prob (F-statistic):</th>   <td>  0.00</td>  \n",
       "</tr>\n",
       "<tr>\n",
       "  <th>Time:</th>                 <td>13:50:10</td>     <th>  Log-Likelihood:    </th>  <td>  29165.</td> \n",
       "</tr>\n",
       "<tr>\n",
       "  <th>No. Observations:</th>      <td> 21592</td>      <th>  AIC:               </th> <td>-5.831e+04</td>\n",
       "</tr>\n",
       "<tr>\n",
       "  <th>Df Residuals:</th>          <td> 21584</td>      <th>  BIC:               </th> <td>-5.825e+04</td>\n",
       "</tr>\n",
       "<tr>\n",
       "  <th>Df Model:</th>              <td>     7</td>      <th>                     </th>      <td> </td>    \n",
       "</tr>\n",
       "<tr>\n",
       "  <th>Covariance Type:</th>      <td>nonrobust</td>    <th>                     </th>      <td> </td>    \n",
       "</tr>\n",
       "</table>\n",
       "<table class=\"simpletable\">\n",
       "<tr>\n",
       "         <td></td>            <th>coef</th>     <th>std err</th>      <th>t</th>      <th>P>|t|</th>  <th>[0.025</th>    <th>0.975]</th>  \n",
       "</tr>\n",
       "<tr>\n",
       "  <th>Intercept</th>       <td>    0.1023</td> <td>    0.002</td> <td>   51.914</td> <td> 0.000</td> <td>    0.098</td> <td>    0.106</td>\n",
       "</tr>\n",
       "<tr>\n",
       "  <th>sqft_living</th>     <td>    0.5823</td> <td>    0.004</td> <td>  147.781</td> <td> 0.000</td> <td>    0.575</td> <td>    0.590</td>\n",
       "</tr>\n",
       "<tr>\n",
       "  <th>sqft_lot</th>        <td>   -0.0267</td> <td>    0.004</td> <td>   -6.947</td> <td> 0.000</td> <td>   -0.034</td> <td>   -0.019</td>\n",
       "</tr>\n",
       "<tr>\n",
       "  <th>waterfront_1</th>    <td>    0.1880</td> <td>    0.006</td> <td>   33.390</td> <td> 0.000</td> <td>    0.177</td> <td>    0.199</td>\n",
       "</tr>\n",
       "<tr>\n",
       "  <th>north_Seattle_1</th> <td>    0.0639</td> <td>    0.001</td> <td>   70.843</td> <td> 0.000</td> <td>    0.062</td> <td>    0.066</td>\n",
       "</tr>\n",
       "<tr>\n",
       "  <th>near_Bellevue_1</th> <td>    0.0600</td> <td>    0.003</td> <td>   20.199</td> <td> 0.000</td> <td>    0.054</td> <td>    0.066</td>\n",
       "</tr>\n",
       "<tr>\n",
       "  <th>hi_zip_1</th>        <td>    0.0945</td> <td>    0.002</td> <td>   56.970</td> <td> 0.000</td> <td>    0.091</td> <td>    0.098</td>\n",
       "</tr>\n",
       "<tr>\n",
       "  <th>low_zip_1</th>       <td>   -0.0772</td> <td>    0.002</td> <td>  -49.287</td> <td> 0.000</td> <td>   -0.080</td> <td>   -0.074</td>\n",
       "</tr>\n",
       "</table>\n",
       "<table class=\"simpletable\">\n",
       "<tr>\n",
       "  <th>Omnibus:</th>       <td>200.825</td> <th>  Durbin-Watson:     </th> <td>   1.995</td>\n",
       "</tr>\n",
       "<tr>\n",
       "  <th>Prob(Omnibus):</th> <td> 0.000</td>  <th>  Jarque-Bera (JB):  </th> <td> 227.308</td>\n",
       "</tr>\n",
       "<tr>\n",
       "  <th>Skew:</th>          <td> 0.191</td>  <th>  Prob(JB):          </th> <td>4.37e-50</td>\n",
       "</tr>\n",
       "<tr>\n",
       "  <th>Kurtosis:</th>      <td> 3.328</td>  <th>  Cond. No.          </th> <td>    16.6</td>\n",
       "</tr>\n",
       "</table><br/><br/>Warnings:<br/>[1] Standard Errors assume that the covariance matrix of the errors is correctly specified."
      ],
      "text/plain": [
       "<class 'statsmodels.iolib.summary.Summary'>\n",
       "\"\"\"\n",
       "                            OLS Regression Results                            \n",
       "==============================================================================\n",
       "Dep. Variable:                  price   R-squared:                       0.701\n",
       "Model:                            OLS   Adj. R-squared:                  0.701\n",
       "Method:                 Least Squares   F-statistic:                     7234.\n",
       "Date:                Sun, 23 Jun 2019   Prob (F-statistic):               0.00\n",
       "Time:                        13:50:10   Log-Likelihood:                 29165.\n",
       "No. Observations:               21592   AIC:                        -5.831e+04\n",
       "Df Residuals:                   21584   BIC:                        -5.825e+04\n",
       "Df Model:                           7                                         \n",
       "Covariance Type:            nonrobust                                         \n",
       "===================================================================================\n",
       "                      coef    std err          t      P>|t|      [0.025      0.975]\n",
       "-----------------------------------------------------------------------------------\n",
       "Intercept           0.1023      0.002     51.914      0.000       0.098       0.106\n",
       "sqft_living         0.5823      0.004    147.781      0.000       0.575       0.590\n",
       "sqft_lot           -0.0267      0.004     -6.947      0.000      -0.034      -0.019\n",
       "waterfront_1        0.1880      0.006     33.390      0.000       0.177       0.199\n",
       "north_Seattle_1     0.0639      0.001     70.843      0.000       0.062       0.066\n",
       "near_Bellevue_1     0.0600      0.003     20.199      0.000       0.054       0.066\n",
       "hi_zip_1            0.0945      0.002     56.970      0.000       0.091       0.098\n",
       "low_zip_1          -0.0772      0.002    -49.287      0.000      -0.080      -0.074\n",
       "==============================================================================\n",
       "Omnibus:                      200.825   Durbin-Watson:                   1.995\n",
       "Prob(Omnibus):                  0.000   Jarque-Bera (JB):              227.308\n",
       "Skew:                           0.191   Prob(JB):                     4.37e-50\n",
       "Kurtosis:                       3.328   Cond. No.                         16.6\n",
       "==============================================================================\n",
       "\n",
       "Warnings:\n",
       "[1] Standard Errors assume that the covariance matrix of the errors is correctly specified.\n",
       "\"\"\""
      ]
     },
     "execution_count": 177,
     "metadata": {},
     "output_type": "execute_result"
    }
   ],
   "source": [
    "predictors = '+'.join(X_col)\n",
    "formula = outcome + \"~\" + predictors\n",
    "model = ols(formula=formula, data=df).fit()\n",
    "model.summary()"
   ]
  },
  {
   "cell_type": "code",
   "execution_count": 178,
   "metadata": {},
   "outputs": [
    {
     "data": {
      "image/png": "[encoded data removed]",
      "text/plain": [
       "<Figure size 432x288 with 1 Axes>"
      ]
     },
     "metadata": {},
     "output_type": "display_data"
    }
   ],
   "source": [
    "fig = sm.graphics.qqplot(model.resid, dist=stats.norm, line='45', fit=True)"
   ]
  },
  {
   "cell_type": "code",
   "execution_count": null,
   "metadata": {},
   "outputs": [],
   "source": []
  }
 ],
 "metadata": {
  "kernelspec": {
   "display_name": "Python 3",
   "language": "python",
   "name": "python3"
  },
  "language_info": {
   "codemirror_mode": {
    "name": "ipython",
    "version": 3
   },
   "file_extension": ".py",
   "mimetype": "text/x-python",
   "name": "python",
   "nbconvert_exporter": "python",
   "pygments_lexer": "ipython3",
   "version": "3.6.8"
  }
 },
 "nbformat": 4,
 "nbformat_minor": 2
}
